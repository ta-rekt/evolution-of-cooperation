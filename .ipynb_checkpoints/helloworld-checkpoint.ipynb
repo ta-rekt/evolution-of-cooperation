{
 "cells": [
  {
   "cell_type": "markdown",
   "id": "04ee13d1",
   "metadata": {},
   "source": [
    "## iterated prisoner's dilemma"
   ]
  },
  {
   "cell_type": "code",
   "execution_count": 4,
   "id": "05d28590",
   "metadata": {},
   "outputs": [],
   "source": [
    "import numpy as np"
   ]
  },
  {
   "cell_type": "code",
   "execution_count": 103,
   "id": "1bd97332",
   "metadata": {},
   "outputs": [],
   "source": [
    "def play_round(game, p0, p1, history):\n",
    "    \"\"\"\n",
    "    Plays one round of a game whose payoff matrix is `game`,\n",
    "    with two players whose strategies are the functions p1 and p2,\n",
    "    with a past `history` of the players' actions, which are elements\n",
    "    of {0, ..., n-1}, n being the number of rows of `game`.\n",
    "    \"\"\"\n",
    "    # each player's action\n",
    "    p0_action = p0(history, player=0)\n",
    "    p1_action = p1(history, player=1)\n",
    "    \n",
    "    history.append((p0_action, p1_action))\n",
    "\n",
    "    # each player's payoff\n",
    "    p0_payoff = game[p0_action, p1_action]\n",
    "    p1_payoff = game[p1_action, p0_action]\n",
    "    \n",
    "    return history, (p0_payoff, p1_payoff)\n",
    "\n",
    "\n",
    "def play(game, p0, p1, initial_play, nrounds=1):\n",
    "    \"\"\"\n",
    "    Play n rounds of `game` with players p0 and p1 starting\n",
    "    from the tuple `initial_play`.\n",
    "    \"\"\"\n",
    "    history = [initial_play]\n",
    "    payoffs = []\n",
    "    \n",
    "    for i in range(n):\n",
    "        history, payoff = play_round(game, p0, p1, history)\n",
    "        payoffs.append(payoff)\n",
    "        \n",
    "    return history, payoffs\n",
    "\n",
    "\n",
    "##### some strategies\n",
    "\n",
    "def always_defect(history, player=0):\n",
    "    \"\"\"\n",
    "    The strategy that always defects no matter what.\n",
    "    \"\"\"\n",
    "    return 1\n",
    "\n",
    "\n",
    "def always_cooperate(history, player=0):\n",
    "    \"\"\"\n",
    "    The strategy that always defects no matter what.\n",
    "    \"\"\"\n",
    "    return 0\n",
    "\n",
    "\n",
    "def tit_for_tat(history, player=0):\n",
    "    \"\"\"\n",
    "    Plays the opponent's last move.\n",
    "    \"\"\"\n",
    "    last_play = history.pop()\n",
    "    \n",
    "    return last_play[not player]\n",
    "\n",
    "\n",
    "def tit_for_two_tats(history, player=0):\n",
    "    \"\"\"\n",
    "    Defect if the opponent defects twice in a row,\n",
    "    otherwise cooperate.\n",
    "    \"\"\"\n",
    "    last_play = history.pop()\n",
    "    second_to_last_play = history.pop()\n",
    "    \n",
    "    return last_play[not player] and second_to_last_play[not player]\n",
    "\n",
    "\n",
    "def grudger(history, player=0):\n",
    "    \"\"\"\n",
    "    Cooperates until the first defection of the opponent,\n",
    "    then defects forever.\n",
    "    \"\"\"\n",
    "    nplays = len(history)\n",
    "    opponent_history = [history[i][not player] for i in range(nplays)]\n",
    "    \n",
    "    return int(1 in opponent_history)\n",
    "\n",
    "\n",
    "def random(history, player=0):\n",
    "    \"\"\"\n",
    "    Fair coin flip.\n",
    "    \"\"\"\n",
    "    \n",
    "    return np.random.default_rng().choice([0,1])"
   ]
  },
  {
   "cell_type": "code",
   "execution_count": 115,
   "id": "271efae4",
   "metadata": {},
   "outputs": [
    {
     "name": "stdout",
     "output_type": "stream",
     "text": [
      "history:  [(0, 0), (1, 0)]\n",
      "payoff:  (3, 0)\n"
     ]
    }
   ],
   "source": [
    "# a payoff matrix for the prisoner's dilemma\n",
    "# rows: player actions\n",
    "# columns: opponent actions\n",
    "# actions: 0 = cooperate, 1 = defect\n",
    "prisoners_dilemma = np.array([[1, 0],\n",
    "                              [3, 2]])\n",
    "\n",
    "# both players cooperate initially\n",
    "history = [(0, 0)]\n",
    "\n",
    "history, payoff = play_round(prisoners_dilemma, random, always_cooperate, history)\n",
    "print('history: ', history)\n",
    "print('payoff: ', payoff)"
   ]
  },
  {
   "cell_type": "code",
   "execution_count": null,
   "id": "6891fcb0",
   "metadata": {},
   "outputs": [],
   "source": []
  }
 ],
 "metadata": {
  "kernelspec": {
   "display_name": "Python 3 (ipykernel)",
   "language": "python",
   "name": "python3"
  },
  "language_info": {
   "codemirror_mode": {
    "name": "ipython",
    "version": 3
   },
   "file_extension": ".py",
   "mimetype": "text/x-python",
   "name": "python",
   "nbconvert_exporter": "python",
   "pygments_lexer": "ipython3",
   "version": "3.11.1"
  }
 },
 "nbformat": 4,
 "nbformat_minor": 5
}
