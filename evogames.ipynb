{
 "cells": [
  {
   "cell_type": "markdown",
   "id": "1ece60bf",
   "metadata": {},
   "source": [
    "# Evolutionary games in Python"
   ]
  },
  {
   "cell_type": "code",
   "execution_count": 2,
   "id": "19654fb6",
   "metadata": {},
   "outputs": [],
   "source": [
    "import numpy as np"
   ]
  },
  {
   "cell_type": "markdown",
   "id": "9c5bf8cc-0413-4bb2-8c14-ac777c650df7",
   "metadata": {},
   "source": [
    "## Playing a fixed number of games"
   ]
  },
  {
   "cell_type": "code",
   "execution_count": 103,
   "id": "cddce14a-1a1b-406a-8fde-a5d068db4b18",
   "metadata": {},
   "outputs": [],
   "source": [
    "def play_round(game, p0, p1, actions_hist):\n",
    "    \"\"\"\n",
    "    Plays one round of a game whose payoff matrix is `game`,\n",
    "    with two players whose strategies are the functions p1 and p2,\n",
    "    with a past `history` of the players' actions, which are elements\n",
    "    of {0, ..., n-1}, n being the number of rows of `game`.\n",
    "\n",
    "    Payoff matrix `game`:\n",
    "    rows: player actions\n",
    "    columns: opponent actions\n",
    "    actions: 0 = cooperate, 1 = defect\n",
    "    \"\"\"\n",
    "    # each player's action\n",
    "    p0_action = p0(actions_hist, player=0)\n",
    "    p1_action = p1(actions_hist, player=1)\n",
    "\n",
    "    # each player's payoff\n",
    "    p0_payoff = game[p0_action, p1_action]\n",
    "    p1_payoff = game[p1_action, p0_action]\n",
    "    \n",
    "    return (p0_action, p1_action), (p0_payoff, p1_payoff)\n",
    "\n",
    "\n",
    "def play(game, p0, p1, actions_hist=[], n=1):\n",
    "    \"\"\"\n",
    "    Play `n` rounds of `game` with players `p0` and `p1` starting\n",
    "    from `init_actions`.\n",
    "    \"\"\"\n",
    "    if len(actions_hist) == 0:\n",
    "        payoffs_hist = []\n",
    "    else:\n",
    "        init_actions = actions_hist[0]\n",
    "        payoffs_hist = [(game[init_actions], game[tuple(reversed(init_actions))])]\n",
    "    \n",
    "    for i in range(1, n):\n",
    "        a, p = play_round(game, p0, p1, actions_hist)\n",
    "        payoffs_hist.append(p)\n",
    "        actions_hist.append(a)\n",
    "        \n",
    "    return actions_hist, payoffs_hist"
   ]
  },
  {
   "cell_type": "markdown",
   "id": "0bb082ec-6aac-41e3-9ce5-1d947443de43",
   "metadata": {},
   "source": [
    "### Some strategies"
   ]
  },
  {
   "cell_type": "code",
   "execution_count": 101,
   "id": "3f887aee",
   "metadata": {},
   "outputs": [],
   "source": [
    "def always_defect(actions_hist=[], player=0):\n",
    "    \"\"\"\n",
    "    The strategy that always defects no matter what.\n",
    "    \"\"\"\n",
    "    return 1\n",
    "\n",
    "def always_cooperate(actions_hist=[], player=0):\n",
    "    \"\"\"\n",
    "    The strategy that always defects no matter what.\n",
    "    \"\"\"\n",
    "    return 0\n",
    "\n",
    "def tit_for_tat(actions_hist=[], player=0):\n",
    "    \"\"\"\n",
    "    Plays the opponent's last move.\n",
    "    \"\"\"\n",
    "    if len(actions_hist) == 0:\n",
    "        return 0\n",
    "        \n",
    "    last_play = actions_hist[-1]\n",
    "    return last_play[not player]\n",
    "\n",
    "def tit_for_two_tats(actions_hist=[], player=0):\n",
    "    \"\"\"\n",
    "    Defect if the opponent defects twice in a row,\n",
    "    otherwise cooperate.\n",
    "    \"\"\"\n",
    "    if len(actions_hist) == 0:\n",
    "        return 0\n",
    "        \n",
    "    last_play = actions_hist[-1]\n",
    "    second_to_last_play = actions_hist[-2]\n",
    "    \n",
    "    return last_play[not player] and second_to_last_play[not player]\n",
    "\n",
    "def grudger(actions_hist=[], player=0):\n",
    "    \"\"\"\n",
    "    Cooperates until the first defection of the opponent,\n",
    "    then defects forever.\n",
    "    \"\"\"\n",
    "    if len(actions_hist) == 0:\n",
    "        return 0\n",
    "        \n",
    "    nplays = len(actions_hist)\n",
    "    opponent_hist = [actions_hist[i][not player] for i in range(nplays)]\n",
    "    \n",
    "    return int(1 in opponent_hist)\n",
    "\n",
    "def random(actions_hist=[], player=0):\n",
    "    \"\"\"\n",
    "    Fair coin flip.\n",
    "    \"\"\"\n",
    "    return np.random.default_rng().choice([0,1])"
   ]
  },
  {
   "cell_type": "markdown",
   "id": "f409d09f-6900-4913-9da8-56484ce232b1",
   "metadata": {},
   "source": [
    "### Testing it out"
   ]
  },
  {
   "cell_type": "code",
   "execution_count": 104,
   "id": "e8935fd5",
   "metadata": {},
   "outputs": [
    {
     "name": "stdout",
     "output_type": "stream",
     "text": [
      "actions (p0, p1):  [(0, 0), (0, 0), (0, 1), (1, 0), (0, 1), (1, 1), (1, 0), (0, 0), (0, 1)]\n",
      "payoffs (p0, p1):  [(2, 2), (2, 2), (0, 3), (3, 0), (0, 3), (1, 1), (3, 0), (2, 2), (0, 3)]\n"
     ]
    }
   ],
   "source": [
    "# a payoff matrix for the prisoner's dilemma\n",
    "prisoners_dilemma = np.array([[2, 0],\n",
    "                              [3, 1]])\n",
    "\n",
    "# both players cooperate initially\n",
    "init_actions = [(0, 0)]\n",
    "\n",
    "actions, payoffs = play(\n",
    "    game = prisoners_dilemma,\n",
    "    p0 = tit_for_tat,\n",
    "    p1 = random,\n",
    "    n = 10\n",
    ")\n",
    "print('actions (p0, p1): ', actions)\n",
    "print('payoffs (p0, p1): ', payoffs)"
   ]
  },
  {
   "cell_type": "markdown",
   "id": "63777795-4893-4700-a0b6-3cc258413fc0",
   "metadata": {},
   "source": [
    "## Tournaments"
   ]
  },
  {
   "cell_type": "code",
   "execution_count": 126,
   "id": "55a972c7-293a-4757-b689-b95a5e55d1fd",
   "metadata": {},
   "outputs": [],
   "source": [
    "def round_robin(game, players, nrounds=1):\n",
    "    \"\"\"\n",
    "    A round-robin tournament (all-to-all) between a list of players.\n",
    "    \"\"\"\n",
    "    nplayers = len(players)\n",
    "    payoffs = np.empty((nrounds, nplayers, nplayers))\n",
    "    actions = np.empty((nrounds, nplayers, nplayers))\n",
    "\n",
    "    for key0, p0 in enumerate(players):\n",
    "        for key1, p1 in enumerate(players):\n",
    "            if key0 > key1:\n",
    "                a, p = play(game, p0, p1, n=nrounds)\n",
    "                payoffs[:, key0, key1] = np.array(p)[:, 0]\n",
    "                payoffs[:, key1, key0] = np.array(p)[:, 1]\n",
    "\n",
    "                print(np.array(p))\n",
    "                actions[:, key0, key1] = np.array(a)[:, 0]\n",
    "                actions[:, key1, key0] = np.array(a)[:, 1]\n",
    "\n",
    "    return acrions, payoffs\n"
   ]
  },
  {
   "cell_type": "code",
   "execution_count": 130,
   "id": "4ab97fb9-cba9-4f67-bae5-48f052d0ee7e",
   "metadata": {},
   "outputs": [
    {
     "name": "stdout",
     "output_type": "stream",
     "text": [
      "[(0, 0), (0, 0), (0, 1), (1, 0), (0, 1), (1, 1), (1, 0), (0, 0), (0, 1)]\n",
      "[(2, 2)]\n"
     ]
    }
   ],
   "source": [
    "a, p = play(prisoners_dilemma, tit_for_tat, tit_for_tat, n=1)\n",
    "print(a)\n",
    "print(p)"
   ]
  },
  {
   "cell_type": "code",
   "execution_count": 127,
   "id": "307d20bd-6d44-43b8-9dcb-a6ec1f4751b9",
   "metadata": {},
   "outputs": [
    {
     "name": "stdout",
     "output_type": "stream",
     "text": [
      "[[2 2]]\n"
     ]
    },
    {
     "ename": "ValueError",
     "evalue": "could not broadcast input array from shape (9,) into shape (1,)",
     "output_type": "error",
     "traceback": [
      "\u001b[0;31m---------------------------------------------------------------------------\u001b[0m",
      "\u001b[0;31mValueError\u001b[0m                                Traceback (most recent call last)",
      "Cell \u001b[0;32mIn[127], line 4\u001b[0m\n\u001b[1;32m      1\u001b[0m \u001b[38;5;66;03m# list of contestants\u001b[39;00m\n\u001b[1;32m      2\u001b[0m players \u001b[38;5;241m=\u001b[39m [tit_for_tat, tit_for_two_tats, random, grudger, always_cooperate, always_defect]\n\u001b[0;32m----> 4\u001b[0m round_robin(prisoners_dilemma, players, \u001b[38;5;241m1\u001b[39m)\n",
      "Cell \u001b[0;32mIn[126], line 17\u001b[0m, in \u001b[0;36mround_robin\u001b[0;34m(game, players, nrounds)\u001b[0m\n\u001b[1;32m     14\u001b[0m             payoffs[:, key1, key0] \u001b[38;5;241m=\u001b[39m np\u001b[38;5;241m.\u001b[39marray(p)[:, \u001b[38;5;241m1\u001b[39m]\n\u001b[1;32m     16\u001b[0m             \u001b[38;5;28mprint\u001b[39m(np\u001b[38;5;241m.\u001b[39marray(p))\n\u001b[0;32m---> 17\u001b[0m             actions[:, key0, key1] \u001b[38;5;241m=\u001b[39m np\u001b[38;5;241m.\u001b[39marray(a)[:, \u001b[38;5;241m0\u001b[39m]\n\u001b[1;32m     18\u001b[0m             actions[:, key1, key0] \u001b[38;5;241m=\u001b[39m np\u001b[38;5;241m.\u001b[39marray(a)[:, \u001b[38;5;241m1\u001b[39m]\n\u001b[1;32m     20\u001b[0m \u001b[38;5;28;01mreturn\u001b[39;00m acrions, payoffs\n",
      "\u001b[0;31mValueError\u001b[0m: could not broadcast input array from shape (9,) into shape (1,)"
     ]
    }
   ],
   "source": [
    "# list of contestants\n",
    "players = [tit_for_tat, tit_for_two_tats, random, grudger, always_cooperate, always_defect]\n",
    "\n",
    "round_robin(prisoners_dilemma, players, 1)"
   ]
  },
  {
   "cell_type": "code",
   "execution_count": null,
   "id": "1e899a01-ed07-4b7e-a26d-54a90a90deaf",
   "metadata": {},
   "outputs": [],
   "source": []
  }
 ],
 "metadata": {
  "kernelspec": {
   "display_name": "Python 3 (ipykernel)",
   "language": "python",
   "name": "python3"
  },
  "language_info": {
   "codemirror_mode": {
    "name": "ipython",
    "version": 3
   },
   "file_extension": ".py",
   "mimetype": "text/x-python",
   "name": "python",
   "nbconvert_exporter": "python",
   "pygments_lexer": "ipython3",
   "version": "3.12.2"
  }
 },
 "nbformat": 4,
 "nbformat_minor": 5
}
